{
 "metadata": {
  "language_info": {
   "codemirror_mode": {
    "name": "ipython",
    "version": 3
   },
   "file_extension": ".py",
   "mimetype": "text/x-python",
   "name": "python",
   "nbconvert_exporter": "python",
   "pygments_lexer": "ipython3",
   "version": "3.7.5-final"
  },
  "orig_nbformat": 2,
  "kernelspec": {
   "name": "python_defaultSpec_1598685115627",
   "display_name": "Python 3.7.5 64-bit"
  }
 },
 "nbformat": 4,
 "nbformat_minor": 2,
 "cells": [
  {
   "cell_type": "code",
   "execution_count": 1,
   "metadata": {},
   "outputs": [],
   "source": [
    "import numpy as np \n",
    "import pandas as pd \n",
    "import matplotlib.pyplot as plt"
   ]
  },
  {
   "cell_type": "markdown",
   "metadata": {},
   "source": [
    "Importing data"
   ]
  },
  {
   "cell_type": "code",
   "execution_count": 2,
   "metadata": {
    "tags": []
   },
   "outputs": [
    {
     "output_type": "execute_result",
     "data": {
      "text/plain": "              0          1           2                 3             4   \\\n0         shrimp    almonds     avocado    vegetables mix  green grapes   \n1        burgers  meatballs        eggs               NaN           NaN   \n2        chutney        NaN         NaN               NaN           NaN   \n3         turkey    avocado         NaN               NaN           NaN   \n4  mineral water       milk  energy bar  whole wheat rice     green tea   \n\n                 5     6               7             8             9   \\\n0  whole weat flour  yams  cottage cheese  energy drink  tomato juice   \n1               NaN   NaN             NaN           NaN           NaN   \n2               NaN   NaN             NaN           NaN           NaN   \n3               NaN   NaN             NaN           NaN           NaN   \n4               NaN   NaN             NaN           NaN           NaN   \n\n               10         11     12     13             14      15  \\\n0  low fat yogurt  green tea  honey  salad  mineral water  salmon   \n1             NaN        NaN    NaN    NaN            NaN     NaN   \n2             NaN        NaN    NaN    NaN            NaN     NaN   \n3             NaN        NaN    NaN    NaN            NaN     NaN   \n4             NaN        NaN    NaN    NaN            NaN     NaN   \n\n                  16               17       18         19  \n0  antioxydant juice  frozen smoothie  spinach  olive oil  \n1                NaN              NaN      NaN        NaN  \n2                NaN              NaN      NaN        NaN  \n3                NaN              NaN      NaN        NaN  \n4                NaN              NaN      NaN        NaN  ",
      "text/html": "<div>\n<style scoped>\n    .dataframe tbody tr th:only-of-type {\n        vertical-align: middle;\n    }\n\n    .dataframe tbody tr th {\n        vertical-align: top;\n    }\n\n    .dataframe thead th {\n        text-align: right;\n    }\n</style>\n<table border=\"1\" class=\"dataframe\">\n  <thead>\n    <tr style=\"text-align: right;\">\n      <th></th>\n      <th>0</th>\n      <th>1</th>\n      <th>2</th>\n      <th>3</th>\n      <th>4</th>\n      <th>5</th>\n      <th>6</th>\n      <th>7</th>\n      <th>8</th>\n      <th>9</th>\n      <th>10</th>\n      <th>11</th>\n      <th>12</th>\n      <th>13</th>\n      <th>14</th>\n      <th>15</th>\n      <th>16</th>\n      <th>17</th>\n      <th>18</th>\n      <th>19</th>\n    </tr>\n  </thead>\n  <tbody>\n    <tr>\n      <th>0</th>\n      <td>shrimp</td>\n      <td>almonds</td>\n      <td>avocado</td>\n      <td>vegetables mix</td>\n      <td>green grapes</td>\n      <td>whole weat flour</td>\n      <td>yams</td>\n      <td>cottage cheese</td>\n      <td>energy drink</td>\n      <td>tomato juice</td>\n      <td>low fat yogurt</td>\n      <td>green tea</td>\n      <td>honey</td>\n      <td>salad</td>\n      <td>mineral water</td>\n      <td>salmon</td>\n      <td>antioxydant juice</td>\n      <td>frozen smoothie</td>\n      <td>spinach</td>\n      <td>olive oil</td>\n    </tr>\n    <tr>\n      <th>1</th>\n      <td>burgers</td>\n      <td>meatballs</td>\n      <td>eggs</td>\n      <td>NaN</td>\n      <td>NaN</td>\n      <td>NaN</td>\n      <td>NaN</td>\n      <td>NaN</td>\n      <td>NaN</td>\n      <td>NaN</td>\n      <td>NaN</td>\n      <td>NaN</td>\n      <td>NaN</td>\n      <td>NaN</td>\n      <td>NaN</td>\n      <td>NaN</td>\n      <td>NaN</td>\n      <td>NaN</td>\n      <td>NaN</td>\n      <td>NaN</td>\n    </tr>\n    <tr>\n      <th>2</th>\n      <td>chutney</td>\n      <td>NaN</td>\n      <td>NaN</td>\n      <td>NaN</td>\n      <td>NaN</td>\n      <td>NaN</td>\n      <td>NaN</td>\n      <td>NaN</td>\n      <td>NaN</td>\n      <td>NaN</td>\n      <td>NaN</td>\n      <td>NaN</td>\n      <td>NaN</td>\n      <td>NaN</td>\n      <td>NaN</td>\n      <td>NaN</td>\n      <td>NaN</td>\n      <td>NaN</td>\n      <td>NaN</td>\n      <td>NaN</td>\n    </tr>\n    <tr>\n      <th>3</th>\n      <td>turkey</td>\n      <td>avocado</td>\n      <td>NaN</td>\n      <td>NaN</td>\n      <td>NaN</td>\n      <td>NaN</td>\n      <td>NaN</td>\n      <td>NaN</td>\n      <td>NaN</td>\n      <td>NaN</td>\n      <td>NaN</td>\n      <td>NaN</td>\n      <td>NaN</td>\n      <td>NaN</td>\n      <td>NaN</td>\n      <td>NaN</td>\n      <td>NaN</td>\n      <td>NaN</td>\n      <td>NaN</td>\n      <td>NaN</td>\n    </tr>\n    <tr>\n      <th>4</th>\n      <td>mineral water</td>\n      <td>milk</td>\n      <td>energy bar</td>\n      <td>whole wheat rice</td>\n      <td>green tea</td>\n      <td>NaN</td>\n      <td>NaN</td>\n      <td>NaN</td>\n      <td>NaN</td>\n      <td>NaN</td>\n      <td>NaN</td>\n      <td>NaN</td>\n      <td>NaN</td>\n      <td>NaN</td>\n      <td>NaN</td>\n      <td>NaN</td>\n      <td>NaN</td>\n      <td>NaN</td>\n      <td>NaN</td>\n      <td>NaN</td>\n    </tr>\n  </tbody>\n</table>\n</div>"
     },
     "metadata": {},
     "execution_count": 2
    }
   ],
   "source": [
    "data=pd.read_csv('Market_Basket_Optimisation.csv',header=None)\n",
    "data.head()"
   ]
  },
  {
   "cell_type": "code",
   "execution_count": 3,
   "metadata": {
    "tags": []
   },
   "outputs": [
    {
     "output_type": "stream",
     "name": "stdout",
     "text": "(7501, 20)\n"
    }
   ],
   "source": [
    "print(data.shape)"
   ]
  },
  {
   "cell_type": "markdown",
   "metadata": {},
   "source": [
    "No need to check for null values"
   ]
  },
  {
   "cell_type": "markdown",
   "metadata": {},
   "source": [
    "Preprocessing "
   ]
  },
  {
   "cell_type": "code",
   "execution_count": 4,
   "metadata": {
    "tags": []
   },
   "outputs": [],
   "source": [
    "x=[]\n",
    "for i in range(0,7501):\n",
    "    x.append([str(data.values[i,j]) for j in range(0,20)])       "
   ]
  },
  {
   "cell_type": "markdown",
   "metadata": {},
   "source": [
    "Association Rule"
   ]
  },
  {
   "cell_type": "code",
   "execution_count": 5,
   "metadata": {
    "tags": []
   },
   "outputs": [
    {
     "output_type": "stream",
     "name": "stdout",
     "text": "[RelationRecord(items=frozenset({'escalope', 'mushroom cream sauce'}), support=0.005732568990801226, ordered_statistics=[OrderedStatistic(items_base=frozenset({'mushroom cream sauce'}), items_add=frozenset({'escalope'}), confidence=0.3006993006993007, lift=3.790832696715049)]), RelationRecord(items=frozenset({'escalope', 'pasta'}), support=0.005865884548726837, ordered_statistics=[OrderedStatistic(items_base=frozenset({'pasta'}), items_add=frozenset({'escalope'}), confidence=0.3728813559322034, lift=4.700811850163794)]), RelationRecord(items=frozenset({'ground beef', 'herb & pepper'}), support=0.015997866951073192, ordered_statistics=[OrderedStatistic(items_base=frozenset({'herb & pepper'}), items_add=frozenset({'ground beef'}), confidence=0.3234501347708895, lift=3.2919938411349285)]), RelationRecord(items=frozenset({'ground beef', 'tomato sauce'}), support=0.005332622317024397, ordered_statistics=[OrderedStatistic(items_base=frozenset({'tomato sauce'}), items_add=frozenset({'ground beef'}), confidence=0.3773584905660377, lift=3.840659481324083)]), RelationRecord(items=frozenset({'whole wheat pasta', 'olive oil'}), support=0.007998933475536596, ordered_statistics=[OrderedStatistic(items_base=frozenset({'whole wheat pasta'}), items_add=frozenset({'olive oil'}), confidence=0.2714932126696833, lift=4.122410097642296)]), RelationRecord(items=frozenset({'pasta', 'shrimp'}), support=0.005065991201173177, ordered_statistics=[OrderedStatistic(items_base=frozenset({'pasta'}), items_add=frozenset({'shrimp'}), confidence=0.3220338983050847, lift=4.506672147735896)])]\n"
    }
   ],
   "source": [
    "from apyori import apriori\n",
    "apri=list(apriori(transactions=x,min_support=0.005,min_confidence=0.2,min_lift=3,min_length=2,max_length=2))\n",
    "print(apri)"
   ]
  },
  {
   "cell_type": "markdown",
   "metadata": {},
   "source": [
    "Converting results into dataframe"
   ]
  },
  {
   "cell_type": "code",
   "execution_count": 20,
   "metadata": {},
   "outputs": [],
   "source": [
    "def to_dataframe(apri):\n",
    "   for i in range(len(apri)):\n",
    "       product=[apris[2][0][0] for apris in apri ]\n",
    "       product_added=[apris[2][0][1] for apris in apri]\n",
    "       support=[apris[1] for apris in apri]\n",
    "       confidence=[apris[2][0][2] for apris in apri]\n",
    "       lift=[apris[2][0][3] for apris in apri]\n",
    "       return list(zip(product,product_added,support,confidence,lift))\n",
    "\n",
    "\n",
    "asso_rule=pd.DataFrame(to_dataframe(apri),columns= ['product','product_added','support','confidence','lift']) \n"
   ]
  },
  {
   "cell_type": "code",
   "execution_count": 21,
   "metadata": {
    "tags": []
   },
   "outputs": [
    {
     "output_type": "execute_result",
     "data": {
      "text/plain": "                  product  product_added   support  confidence      lift\n0  (mushroom cream sauce)     (escalope)  0.005733    0.300699  3.790833\n1                 (pasta)     (escalope)  0.005866    0.372881  4.700812\n2         (herb & pepper)  (ground beef)  0.015998    0.323450  3.291994\n3          (tomato sauce)  (ground beef)  0.005333    0.377358  3.840659\n4     (whole wheat pasta)    (olive oil)  0.007999    0.271493  4.122410\n5                 (pasta)       (shrimp)  0.005066    0.322034  4.506672",
      "text/html": "<div>\n<style scoped>\n    .dataframe tbody tr th:only-of-type {\n        vertical-align: middle;\n    }\n\n    .dataframe tbody tr th {\n        vertical-align: top;\n    }\n\n    .dataframe thead th {\n        text-align: right;\n    }\n</style>\n<table border=\"1\" class=\"dataframe\">\n  <thead>\n    <tr style=\"text-align: right;\">\n      <th></th>\n      <th>product</th>\n      <th>product_added</th>\n      <th>support</th>\n      <th>confidence</th>\n      <th>lift</th>\n    </tr>\n  </thead>\n  <tbody>\n    <tr>\n      <th>0</th>\n      <td>(mushroom cream sauce)</td>\n      <td>(escalope)</td>\n      <td>0.005733</td>\n      <td>0.300699</td>\n      <td>3.790833</td>\n    </tr>\n    <tr>\n      <th>1</th>\n      <td>(pasta)</td>\n      <td>(escalope)</td>\n      <td>0.005866</td>\n      <td>0.372881</td>\n      <td>4.700812</td>\n    </tr>\n    <tr>\n      <th>2</th>\n      <td>(herb &amp; pepper)</td>\n      <td>(ground beef)</td>\n      <td>0.015998</td>\n      <td>0.323450</td>\n      <td>3.291994</td>\n    </tr>\n    <tr>\n      <th>3</th>\n      <td>(tomato sauce)</td>\n      <td>(ground beef)</td>\n      <td>0.005333</td>\n      <td>0.377358</td>\n      <td>3.840659</td>\n    </tr>\n    <tr>\n      <th>4</th>\n      <td>(whole wheat pasta)</td>\n      <td>(olive oil)</td>\n      <td>0.007999</td>\n      <td>0.271493</td>\n      <td>4.122410</td>\n    </tr>\n    <tr>\n      <th>5</th>\n      <td>(pasta)</td>\n      <td>(shrimp)</td>\n      <td>0.005066</td>\n      <td>0.322034</td>\n      <td>4.506672</td>\n    </tr>\n  </tbody>\n</table>\n</div>"
     },
     "metadata": {},
     "execution_count": 21
    }
   ],
   "source": [
    "asso_rule"
   ]
  },
  {
   "cell_type": "markdown",
   "metadata": {},
   "source": [
    "Sorted Dataframe "
   ]
  },
  {
   "cell_type": "code",
   "execution_count": 25,
   "metadata": {},
   "outputs": [
    {
     "output_type": "execute_result",
     "data": {
      "text/plain": "                  product  product_added   support  confidence      lift\n1                 (pasta)     (escalope)  0.005866    0.372881  4.700812\n5                 (pasta)       (shrimp)  0.005066    0.322034  4.506672\n4     (whole wheat pasta)    (olive oil)  0.007999    0.271493  4.122410\n3          (tomato sauce)  (ground beef)  0.005333    0.377358  3.840659\n0  (mushroom cream sauce)     (escalope)  0.005733    0.300699  3.790833\n2         (herb & pepper)  (ground beef)  0.015998    0.323450  3.291994",
      "text/html": "<div>\n<style scoped>\n    .dataframe tbody tr th:only-of-type {\n        vertical-align: middle;\n    }\n\n    .dataframe tbody tr th {\n        vertical-align: top;\n    }\n\n    .dataframe thead th {\n        text-align: right;\n    }\n</style>\n<table border=\"1\" class=\"dataframe\">\n  <thead>\n    <tr style=\"text-align: right;\">\n      <th></th>\n      <th>product</th>\n      <th>product_added</th>\n      <th>support</th>\n      <th>confidence</th>\n      <th>lift</th>\n    </tr>\n  </thead>\n  <tbody>\n    <tr>\n      <th>1</th>\n      <td>(pasta)</td>\n      <td>(escalope)</td>\n      <td>0.005866</td>\n      <td>0.372881</td>\n      <td>4.700812</td>\n    </tr>\n    <tr>\n      <th>5</th>\n      <td>(pasta)</td>\n      <td>(shrimp)</td>\n      <td>0.005066</td>\n      <td>0.322034</td>\n      <td>4.506672</td>\n    </tr>\n    <tr>\n      <th>4</th>\n      <td>(whole wheat pasta)</td>\n      <td>(olive oil)</td>\n      <td>0.007999</td>\n      <td>0.271493</td>\n      <td>4.122410</td>\n    </tr>\n    <tr>\n      <th>3</th>\n      <td>(tomato sauce)</td>\n      <td>(ground beef)</td>\n      <td>0.005333</td>\n      <td>0.377358</td>\n      <td>3.840659</td>\n    </tr>\n    <tr>\n      <th>0</th>\n      <td>(mushroom cream sauce)</td>\n      <td>(escalope)</td>\n      <td>0.005733</td>\n      <td>0.300699</td>\n      <td>3.790833</td>\n    </tr>\n    <tr>\n      <th>2</th>\n      <td>(herb &amp; pepper)</td>\n      <td>(ground beef)</td>\n      <td>0.015998</td>\n      <td>0.323450</td>\n      <td>3.291994</td>\n    </tr>\n  </tbody>\n</table>\n</div>"
     },
     "metadata": {},
     "execution_count": 25
    }
   ],
   "source": [
    "asso_rule.nlargest(len(asso_rule),columns='lift')"
   ]
  }
 ]
}